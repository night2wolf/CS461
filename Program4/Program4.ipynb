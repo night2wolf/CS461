{
 "cells": [
  {
   "cell_type": "code",
   "execution_count": 1,
   "metadata": {},
   "outputs": [],
   "source": [
    "from __future__ import absolute_import, division, print_function, unicode_literals\n",
    "import functools\n",
    "import tensorflow as tf\n",
    "import numpy as np\n",
    "import pandas as pd"
   ]
  },
  {
   "cell_type": "code",
   "execution_count": 2,
   "metadata": {},
   "outputs": [],
   "source": [
    "train_file_path = pd.read_csv(\"pulsar_stars_train.csv\")\n",
    "test_file_path = pd.read_csv(\"pulsar_stars_test.csv\")"
   ]
  },
  {
   "cell_type": "code",
   "execution_count": 3,
   "metadata": {},
   "outputs": [
    {
     "data": {
      "text/plain": [
       " Mean of the integrated profile                  float64\n",
       " Standard deviation of the integrated profile    float64\n",
       " Excess kurtosis of the integrated profile       float64\n",
       " Skewness of the integrated profile              float64\n",
       " Mean of the DM-SNR curve                        float64\n",
       " Standard deviation of the DM-SNR curve          float64\n",
       " Excess kurtosis of the DM-SNR curve             float64\n",
       " Skewness of the DM-SNR curve                    float64\n",
       "target_class                                       int64\n",
       "dtype: object"
      ]
     },
     "execution_count": 3,
     "metadata": {},
     "output_type": "execute_result"
    }
   ],
   "source": [
    "train_file_path.head()\n",
    "train_file_path.dtypes\n"
   ]
  },
  {
   "cell_type": "code",
   "execution_count": 4,
   "metadata": {},
   "outputs": [],
   "source": [
    "target = train_file_path.pop('target_class')\n",
    "dataset = tf.data.Dataset.from_tensor_slices((train_file_path.values, target.values))"
   ]
  },
  {
   "cell_type": "code",
   "execution_count": 6,
   "metadata": {},
   "outputs": [],
   "source": [
    "train_dataset = dataset.shuffle(len(train_file_path)).batch(64)"
   ]
  },
  {
   "cell_type": "code",
   "execution_count": 7,
   "metadata": {},
   "outputs": [],
   "source": [
    "def get_compiled_model():\n",
    "  model = tf.keras.Sequential([\n",
    "    tf.keras.layers.Dense(15, activation='softmax'),\n",
    "    tf.keras.layers.Dense(25, activation='relu'),\n",
    "    tf.keras.layers.Dense(1, activation='sigmoid')\n",
    "  ])\n",
    "\n",
    "  model.compile(optimizer='Nadam',\n",
    "                loss='binary_crossentropy',\n",
    "                metrics=['accuracy'])\n",
    "  return model"
   ]
  },
  {
   "cell_type": "code",
   "execution_count": 8,
   "metadata": {},
   "outputs": [
    {
     "name": "stdout",
     "output_type": "stream",
     "text": [
      "WARNING:tensorflow:From C:\\Users\\tklinkenberg\\.conda\\envs\\CS490\\lib\\site-packages\\tensorflow\\python\\ops\\init_ops.py:1251: calling VarianceScaling.__init__ (from tensorflow.python.ops.init_ops) with dtype is deprecated and will be removed in a future version.\n",
      "Instructions for updating:\n",
      "Call initializer instance with the dtype argument instead of passing it to the constructor\n",
      "WARNING:tensorflow:From C:\\Users\\tklinkenberg\\.conda\\envs\\CS490\\lib\\site-packages\\tensorflow\\python\\ops\\nn_impl.py:180: add_dispatch_support.<locals>.wrapper (from tensorflow.python.ops.array_ops) is deprecated and will be removed in a future version.\n",
      "Instructions for updating:\n",
      "Use tf.where in 2.0, which has the same broadcast rule as np.where\n",
      "Epoch 1/20\n",
      "196/196 [==============================] - 2s 11ms/step - loss: 0.4914 - acc: 0.8329\n",
      "Epoch 2/20\n",
      "196/196 [==============================] - 1s 5ms/step - loss: 0.1920 - acc: 0.9485\n",
      "Epoch 3/20\n",
      "196/196 [==============================] - 1s 5ms/step - loss: 0.1383 - acc: 0.9637\n",
      "Epoch 4/20\n",
      "196/196 [==============================] - 1s 5ms/step - loss: 0.1332 - acc: 0.9650\n",
      "Epoch 5/20\n",
      "196/196 [==============================] - 1s 5ms/step - loss: 0.1295 - acc: 0.9655\n",
      "Epoch 6/20\n",
      "196/196 [==============================] - 1s 5ms/step - loss: 0.1279 - acc: 0.9670\n",
      "Epoch 7/20\n",
      "196/196 [==============================] - 1s 5ms/step - loss: 0.1250 - acc: 0.9671\n",
      "Epoch 8/20\n",
      "196/196 [==============================] - 1s 6ms/step - loss: 0.1237 - acc: 0.9680\n",
      "Epoch 9/20\n",
      "196/196 [==============================] - 1s 6ms/step - loss: 0.1231 - acc: 0.9679\n",
      "Epoch 10/20\n",
      "196/196 [==============================] - 1s 6ms/step - loss: 0.1206 - acc: 0.9682\n",
      "Epoch 11/20\n",
      "196/196 [==============================] - 1s 5ms/step - loss: 0.1177 - acc: 0.9687\n",
      "Epoch 12/20\n",
      "196/196 [==============================] - 1s 5ms/step - loss: 0.1168 - acc: 0.9689\n",
      "Epoch 13/20\n",
      "196/196 [==============================] - 1s 5ms/step - loss: 0.1162 - acc: 0.9686\n",
      "Epoch 14/20\n",
      "196/196 [==============================] - 1s 5ms/step - loss: 0.1158 - acc: 0.9689\n",
      "Epoch 15/20\n",
      "196/196 [==============================] - 1s 5ms/step - loss: 0.1160 - acc: 0.9690\n",
      "Epoch 16/20\n",
      "196/196 [==============================] - 1s 5ms/step - loss: 0.1145 - acc: 0.9689\n",
      "Epoch 17/20\n",
      "196/196 [==============================] - 1s 5ms/step - loss: 0.1139 - acc: 0.9695\n",
      "Epoch 18/20\n",
      "196/196 [==============================] - 1s 5ms/step - loss: 0.1133 - acc: 0.9699\n",
      "Epoch 19/20\n",
      "196/196 [==============================] - 1s 5ms/step - loss: 0.1127 - acc: 0.9696\n",
      "Epoch 20/20\n",
      "196/196 [==============================] - 1s 5ms/step - loss: 0.1127 - acc: 0.9688\n"
     ]
    },
    {
     "data": {
      "text/plain": [
       "<tensorflow.python.keras.callbacks.History at 0x1fa9dea0860>"
      ]
     },
     "execution_count": 8,
     "metadata": {},
     "output_type": "execute_result"
    }
   ],
   "source": [
    "model = get_compiled_model()\n",
    "model.fit(train_dataset, epochs=20)"
   ]
  },
  {
   "cell_type": "code",
   "execution_count": 9,
   "metadata": {},
   "outputs": [],
   "source": [
    "test_target = test_file_path.pop('target_class')\n",
    "te_dataset = tf.data.Dataset.from_tensor_slices((test_file_path.values, test_target.values))\n",
    "test_dataset = te_dataset.shuffle(len(test_file_path)).batch(64)"
   ]
  },
  {
   "cell_type": "code",
   "execution_count": 10,
   "metadata": {
    "scrolled": true
   },
   "outputs": [
    {
     "name": "stdout",
     "output_type": "stream",
     "text": [
      "39/39 [==============================] - 0s 7ms/step - loss: 0.0634 - acc: 0.9831\n",
      "\n",
      "\n",
      "Test Loss 0.06335197097789018, Test Accuracy 0.9830917716026306\n"
     ]
    }
   ],
   "source": [
    "test_loss, test_accuracy = model.evaluate(test_dataset)\n",
    "\n",
    "print('\\n\\nTest Loss {}, Test Accuracy {}'.format(test_loss, test_accuracy)) "
   ]
  },
  {
   "cell_type": "code",
   "execution_count": 14,
   "metadata": {},
   "outputs": [],
   "source": [
    "validation_file_path = pd.read_csv(\"pulsar_stars_eval.csv\")\n",
    "target_eval = validation_file_path.pop('target_class')\n",
    "ev_dataset = tf.data.Dataset.from_tensor_slices((validation_file_path.values, target_eval.values))\n",
    "eval_dataset = ev_dataset.shuffle(len(test_file_path)).batch(64)"
   ]
  },
  {
   "cell_type": "code",
   "execution_count": 15,
   "metadata": {},
   "outputs": [
    {
     "name": "stdout",
     "output_type": "stream",
     "text": [
      "46/46 [==============================] - 0s 7ms/step - loss: 0.0464 - acc: 0.9896\n",
      "\n",
      "\n",
      "Validation Loss 0.04635186120867729, Validation Accuracy 0.9896050095558167\n"
     ]
    }
   ],
   "source": [
    "eval_loss, eval_accuracy = model.evaluate(eval_dataset)\n",
    "\n",
    "print('\\n\\nValidation Loss {}, Validation Accuracy {}'.format(eval_loss, eval_accuracy)) "
   ]
  },
  {
   "cell_type": "code",
   "execution_count": null,
   "metadata": {},
   "outputs": [],
   "source": []
  }
 ],
 "metadata": {
  "kernelspec": {
   "display_name": "Python 3",
   "language": "python",
   "name": "python3"
  },
  "language_info": {
   "codemirror_mode": {
    "name": "ipython",
    "version": 3
   },
   "file_extension": ".py",
   "mimetype": "text/x-python",
   "name": "python",
   "nbconvert_exporter": "python",
   "pygments_lexer": "ipython3",
   "version": "3.7.3"
  }
 },
 "nbformat": 4,
 "nbformat_minor": 2
}
